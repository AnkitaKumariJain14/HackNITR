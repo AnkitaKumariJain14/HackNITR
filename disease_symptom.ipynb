{
  "nbformat": 4,
  "nbformat_minor": 0,
  "metadata": {
    "colab": {
      "name": "disease symptom.ipynb",
      "provenance": [],
      "toc_visible": true
    },
    "kernelspec": {
      "name": "python3",
      "display_name": "Python 3"
    }
  },
  "cells": [
    {
      "cell_type": "markdown",
      "metadata": {
        "id": "pHdLJMgWW3rP"
      },
      "source": [
        "# Identifying the disease"
      ]
    },
    {
      "cell_type": "code",
      "metadata": {
        "colab": {
          "resources": {
            "http://localhost:8080/nbextensions/google.colab/files.js": {
              "data": "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",
              "ok": true,
              "headers": [
                [
                  "content-type",
                  "application/javascript"
                ]
              ],
              "status": 200,
              "status_text": ""
            }
          },
          "base_uri": "https://localhost:8080/",
          "height": 72
        },
        "id": "xvMVTZ_2VtHx",
        "outputId": "f90f561f-ba90-4e1c-b722-c6782df499e0"
      },
      "source": [
        "from google.colab import files\n",
        "files.upload()\n",
        "!pip install -q kaggle\n",
        "!mkdir -p ~/.kaggle\n",
        "!cp kaggle.json ~/.kaggle/\n",
        "!chmod 600 /root/.kaggle/kaggle.json"
      ],
      "execution_count": 1,
      "outputs": [
        {
          "output_type": "display_data",
          "data": {
            "text/html": [
              "\n",
              "     <input type=\"file\" id=\"files-f6dc56ec-bb70-4cee-853c-0e6fae8cf7e0\" name=\"files[]\" multiple disabled\n",
              "        style=\"border:none\" />\n",
              "     <output id=\"result-f6dc56ec-bb70-4cee-853c-0e6fae8cf7e0\">\n",
              "      Upload widget is only available when the cell has been executed in the\n",
              "      current browser session. Please rerun this cell to enable.\n",
              "      </output>\n",
              "      <script src=\"/nbextensions/google.colab/files.js\"></script> "
            ],
            "text/plain": [
              "<IPython.core.display.HTML object>"
            ]
          },
          "metadata": {
            "tags": []
          }
        },
        {
          "output_type": "stream",
          "text": [
            "Saving kaggle.json to kaggle.json\n"
          ],
          "name": "stdout"
        }
      ]
    },
    {
      "cell_type": "code",
      "metadata": {
        "colab": {
          "base_uri": "https://localhost:8080/"
        },
        "id": "DwF-MZ-2WrK5",
        "outputId": "2adcda40-9c8b-46ed-ca85-7d4c8d7a5237"
      },
      "source": [
        "!kaggle datasets download -d itachi9604/disease-symptom-description-dataset\n",
        "\n",
        "!unzip disease-symptom-description-dataset"
      ],
      "execution_count": 2,
      "outputs": [
        {
          "output_type": "stream",
          "text": [
            "Downloading disease-symptom-description-dataset.zip to /content\n",
            "\r  0% 0.00/30.1k [00:00<?, ?B/s]\n",
            "\r100% 30.1k/30.1k [00:00<00:00, 25.4MB/s]\n",
            "Archive:  disease-symptom-description-dataset.zip\n",
            "  inflating: Symptom-severity.csv    \n",
            "  inflating: dataset.csv             \n",
            "  inflating: symptom_Description.csv  \n",
            "  inflating: symptom_precaution.csv  \n"
          ],
          "name": "stdout"
        }
      ]
    },
    {
      "cell_type": "code",
      "metadata": {
        "id": "lyqf1XTaW3Cz"
      },
      "source": [
        "import pandas as pd\n",
        "import numpy as np\n",
        "from sklearn.model_selection import train_test_split\n",
        "from keras import losses, optimizers, models, layers, callbacks\n",
        "from sklearn.preprocessing import label_binarize"
      ],
      "execution_count": 3,
      "outputs": []
    },
    {
      "cell_type": "code",
      "metadata": {
        "colab": {
          "base_uri": "https://localhost:8080/",
          "height": 609
        },
        "id": "31qvbWWOYA4W",
        "outputId": "07a2befa-f6bf-412b-cc2c-825d76395dff"
      },
      "source": [
        "df = pd.read_csv('/content/dataset.csv')\n",
        "df"
      ],
      "execution_count": 4,
      "outputs": [
        {
          "output_type": "execute_result",
          "data": {
            "text/html": [
              "<div>\n",
              "<style scoped>\n",
              "    .dataframe tbody tr th:only-of-type {\n",
              "        vertical-align: middle;\n",
              "    }\n",
              "\n",
              "    .dataframe tbody tr th {\n",
              "        vertical-align: top;\n",
              "    }\n",
              "\n",
              "    .dataframe thead th {\n",
              "        text-align: right;\n",
              "    }\n",
              "</style>\n",
              "<table border=\"1\" class=\"dataframe\">\n",
              "  <thead>\n",
              "    <tr style=\"text-align: right;\">\n",
              "      <th></th>\n",
              "      <th>Disease</th>\n",
              "      <th>Symptom_1</th>\n",
              "      <th>Symptom_2</th>\n",
              "      <th>Symptom_3</th>\n",
              "      <th>Symptom_4</th>\n",
              "      <th>Symptom_5</th>\n",
              "      <th>Symptom_6</th>\n",
              "      <th>Symptom_7</th>\n",
              "      <th>Symptom_8</th>\n",
              "      <th>Symptom_9</th>\n",
              "      <th>Symptom_10</th>\n",
              "      <th>Symptom_11</th>\n",
              "      <th>Symptom_12</th>\n",
              "      <th>Symptom_13</th>\n",
              "      <th>Symptom_14</th>\n",
              "      <th>Symptom_15</th>\n",
              "      <th>Symptom_16</th>\n",
              "      <th>Symptom_17</th>\n",
              "    </tr>\n",
              "  </thead>\n",
              "  <tbody>\n",
              "    <tr>\n",
              "      <th>0</th>\n",
              "      <td>Fungal infection</td>\n",
              "      <td>itching</td>\n",
              "      <td>skin_rash</td>\n",
              "      <td>nodal_skin_eruptions</td>\n",
              "      <td>dischromic _patches</td>\n",
              "      <td>NaN</td>\n",
              "      <td>NaN</td>\n",
              "      <td>NaN</td>\n",
              "      <td>NaN</td>\n",
              "      <td>NaN</td>\n",
              "      <td>NaN</td>\n",
              "      <td>NaN</td>\n",
              "      <td>NaN</td>\n",
              "      <td>NaN</td>\n",
              "      <td>NaN</td>\n",
              "      <td>NaN</td>\n",
              "      <td>NaN</td>\n",
              "      <td>NaN</td>\n",
              "    </tr>\n",
              "    <tr>\n",
              "      <th>1</th>\n",
              "      <td>Fungal infection</td>\n",
              "      <td>skin_rash</td>\n",
              "      <td>nodal_skin_eruptions</td>\n",
              "      <td>dischromic _patches</td>\n",
              "      <td>NaN</td>\n",
              "      <td>NaN</td>\n",
              "      <td>NaN</td>\n",
              "      <td>NaN</td>\n",
              "      <td>NaN</td>\n",
              "      <td>NaN</td>\n",
              "      <td>NaN</td>\n",
              "      <td>NaN</td>\n",
              "      <td>NaN</td>\n",
              "      <td>NaN</td>\n",
              "      <td>NaN</td>\n",
              "      <td>NaN</td>\n",
              "      <td>NaN</td>\n",
              "      <td>NaN</td>\n",
              "    </tr>\n",
              "    <tr>\n",
              "      <th>2</th>\n",
              "      <td>Fungal infection</td>\n",
              "      <td>itching</td>\n",
              "      <td>nodal_skin_eruptions</td>\n",
              "      <td>dischromic _patches</td>\n",
              "      <td>NaN</td>\n",
              "      <td>NaN</td>\n",
              "      <td>NaN</td>\n",
              "      <td>NaN</td>\n",
              "      <td>NaN</td>\n",
              "      <td>NaN</td>\n",
              "      <td>NaN</td>\n",
              "      <td>NaN</td>\n",
              "      <td>NaN</td>\n",
              "      <td>NaN</td>\n",
              "      <td>NaN</td>\n",
              "      <td>NaN</td>\n",
              "      <td>NaN</td>\n",
              "      <td>NaN</td>\n",
              "    </tr>\n",
              "    <tr>\n",
              "      <th>3</th>\n",
              "      <td>Fungal infection</td>\n",
              "      <td>itching</td>\n",
              "      <td>skin_rash</td>\n",
              "      <td>dischromic _patches</td>\n",
              "      <td>NaN</td>\n",
              "      <td>NaN</td>\n",
              "      <td>NaN</td>\n",
              "      <td>NaN</td>\n",
              "      <td>NaN</td>\n",
              "      <td>NaN</td>\n",
              "      <td>NaN</td>\n",
              "      <td>NaN</td>\n",
              "      <td>NaN</td>\n",
              "      <td>NaN</td>\n",
              "      <td>NaN</td>\n",
              "      <td>NaN</td>\n",
              "      <td>NaN</td>\n",
              "      <td>NaN</td>\n",
              "    </tr>\n",
              "    <tr>\n",
              "      <th>4</th>\n",
              "      <td>Fungal infection</td>\n",
              "      <td>itching</td>\n",
              "      <td>skin_rash</td>\n",
              "      <td>nodal_skin_eruptions</td>\n",
              "      <td>NaN</td>\n",
              "      <td>NaN</td>\n",
              "      <td>NaN</td>\n",
              "      <td>NaN</td>\n",
              "      <td>NaN</td>\n",
              "      <td>NaN</td>\n",
              "      <td>NaN</td>\n",
              "      <td>NaN</td>\n",
              "      <td>NaN</td>\n",
              "      <td>NaN</td>\n",
              "      <td>NaN</td>\n",
              "      <td>NaN</td>\n",
              "      <td>NaN</td>\n",
              "      <td>NaN</td>\n",
              "    </tr>\n",
              "    <tr>\n",
              "      <th>...</th>\n",
              "      <td>...</td>\n",
              "      <td>...</td>\n",
              "      <td>...</td>\n",
              "      <td>...</td>\n",
              "      <td>...</td>\n",
              "      <td>...</td>\n",
              "      <td>...</td>\n",
              "      <td>...</td>\n",
              "      <td>...</td>\n",
              "      <td>...</td>\n",
              "      <td>...</td>\n",
              "      <td>...</td>\n",
              "      <td>...</td>\n",
              "      <td>...</td>\n",
              "      <td>...</td>\n",
              "      <td>...</td>\n",
              "      <td>...</td>\n",
              "      <td>...</td>\n",
              "    </tr>\n",
              "    <tr>\n",
              "      <th>4915</th>\n",
              "      <td>(vertigo) Paroymsal  Positional Vertigo</td>\n",
              "      <td>vomiting</td>\n",
              "      <td>headache</td>\n",
              "      <td>nausea</td>\n",
              "      <td>spinning_movements</td>\n",
              "      <td>loss_of_balance</td>\n",
              "      <td>unsteadiness</td>\n",
              "      <td>NaN</td>\n",
              "      <td>NaN</td>\n",
              "      <td>NaN</td>\n",
              "      <td>NaN</td>\n",
              "      <td>NaN</td>\n",
              "      <td>NaN</td>\n",
              "      <td>NaN</td>\n",
              "      <td>NaN</td>\n",
              "      <td>NaN</td>\n",
              "      <td>NaN</td>\n",
              "      <td>NaN</td>\n",
              "    </tr>\n",
              "    <tr>\n",
              "      <th>4916</th>\n",
              "      <td>Acne</td>\n",
              "      <td>skin_rash</td>\n",
              "      <td>pus_filled_pimples</td>\n",
              "      <td>blackheads</td>\n",
              "      <td>scurring</td>\n",
              "      <td>NaN</td>\n",
              "      <td>NaN</td>\n",
              "      <td>NaN</td>\n",
              "      <td>NaN</td>\n",
              "      <td>NaN</td>\n",
              "      <td>NaN</td>\n",
              "      <td>NaN</td>\n",
              "      <td>NaN</td>\n",
              "      <td>NaN</td>\n",
              "      <td>NaN</td>\n",
              "      <td>NaN</td>\n",
              "      <td>NaN</td>\n",
              "      <td>NaN</td>\n",
              "    </tr>\n",
              "    <tr>\n",
              "      <th>4917</th>\n",
              "      <td>Urinary tract infection</td>\n",
              "      <td>burning_micturition</td>\n",
              "      <td>bladder_discomfort</td>\n",
              "      <td>foul_smell_of urine</td>\n",
              "      <td>continuous_feel_of_urine</td>\n",
              "      <td>NaN</td>\n",
              "      <td>NaN</td>\n",
              "      <td>NaN</td>\n",
              "      <td>NaN</td>\n",
              "      <td>NaN</td>\n",
              "      <td>NaN</td>\n",
              "      <td>NaN</td>\n",
              "      <td>NaN</td>\n",
              "      <td>NaN</td>\n",
              "      <td>NaN</td>\n",
              "      <td>NaN</td>\n",
              "      <td>NaN</td>\n",
              "      <td>NaN</td>\n",
              "    </tr>\n",
              "    <tr>\n",
              "      <th>4918</th>\n",
              "      <td>Psoriasis</td>\n",
              "      <td>skin_rash</td>\n",
              "      <td>joint_pain</td>\n",
              "      <td>skin_peeling</td>\n",
              "      <td>silver_like_dusting</td>\n",
              "      <td>small_dents_in_nails</td>\n",
              "      <td>inflammatory_nails</td>\n",
              "      <td>NaN</td>\n",
              "      <td>NaN</td>\n",
              "      <td>NaN</td>\n",
              "      <td>NaN</td>\n",
              "      <td>NaN</td>\n",
              "      <td>NaN</td>\n",
              "      <td>NaN</td>\n",
              "      <td>NaN</td>\n",
              "      <td>NaN</td>\n",
              "      <td>NaN</td>\n",
              "      <td>NaN</td>\n",
              "    </tr>\n",
              "    <tr>\n",
              "      <th>4919</th>\n",
              "      <td>Impetigo</td>\n",
              "      <td>skin_rash</td>\n",
              "      <td>high_fever</td>\n",
              "      <td>blister</td>\n",
              "      <td>red_sore_around_nose</td>\n",
              "      <td>yellow_crust_ooze</td>\n",
              "      <td>NaN</td>\n",
              "      <td>NaN</td>\n",
              "      <td>NaN</td>\n",
              "      <td>NaN</td>\n",
              "      <td>NaN</td>\n",
              "      <td>NaN</td>\n",
              "      <td>NaN</td>\n",
              "      <td>NaN</td>\n",
              "      <td>NaN</td>\n",
              "      <td>NaN</td>\n",
              "      <td>NaN</td>\n",
              "      <td>NaN</td>\n",
              "    </tr>\n",
              "  </tbody>\n",
              "</table>\n",
              "<p>4920 rows × 18 columns</p>\n",
              "</div>"
            ],
            "text/plain": [
              "                                      Disease  ... Symptom_17\n",
              "0                            Fungal infection  ...        NaN\n",
              "1                            Fungal infection  ...        NaN\n",
              "2                            Fungal infection  ...        NaN\n",
              "3                            Fungal infection  ...        NaN\n",
              "4                            Fungal infection  ...        NaN\n",
              "...                                       ...  ...        ...\n",
              "4915  (vertigo) Paroymsal  Positional Vertigo  ...        NaN\n",
              "4916                                     Acne  ...        NaN\n",
              "4917                  Urinary tract infection  ...        NaN\n",
              "4918                                Psoriasis  ...        NaN\n",
              "4919                                 Impetigo  ...        NaN\n",
              "\n",
              "[4920 rows x 18 columns]"
            ]
          },
          "metadata": {
            "tags": []
          },
          "execution_count": 4
        }
      ]
    },
    {
      "cell_type": "code",
      "metadata": {
        "id": "F5mHolUbX0CP"
      },
      "source": [
        "diseases = ['Acne','Common Cold','Diabetes ','Heart attack','Hyperthyroidism','Hypothyroidism','Malaria','Pneumonia']\n",
        "\n",
        "#diseases = df['Disease'].unique().tolist()"
      ],
      "execution_count": 5,
      "outputs": []
    },
    {
      "cell_type": "code",
      "metadata": {
        "id": "6-a223Vubrgx",
        "colab": {
          "base_uri": "https://localhost:8080/"
        },
        "outputId": "415fa64b-6af1-420d-94c7-173b67dd57d8"
      },
      "source": [
        "df = df[df['Disease'].isin(diseases)]\n",
        "df = df.drop_duplicates(ignore_index=True)\n",
        "df['Disease'].value_counts()"
      ],
      "execution_count": 6,
      "outputs": [
        {
          "output_type": "execute_result",
          "data": {
            "text/plain": [
              "Pneumonia          9\n",
              "Common Cold        9\n",
              "Hyperthyroidism    9\n",
              "Diabetes           9\n",
              "Hypothyroidism     8\n",
              "Malaria            8\n",
              "Acne               5\n",
              "Heart attack       5\n",
              "Name: Disease, dtype: int64"
            ]
          },
          "metadata": {
            "tags": []
          },
          "execution_count": 6
        }
      ]
    },
    {
      "cell_type": "code",
      "metadata": {
        "colab": {
          "base_uri": "https://localhost:8080/"
        },
        "id": "X-S32-ZibLJA",
        "outputId": "79c128a6-edff-4417-cbac-f03d6c3f0971"
      },
      "source": [
        "symptoms = []\n",
        "for i in range(1, 18):\n",
        "    symptoms.extend(df['Symptom_'+str(i)].values.tolist())\n",
        "\n",
        "symptoms = list(set(symptoms))\n",
        "symptoms.remove(np.nan)\n",
        "\n",
        "symptoms = [x.strip() for x in symptoms]\n",
        "\n",
        "len(symptoms), symptoms"
      ],
      "execution_count": 7,
      "outputs": [
        {
          "output_type": "execute_result",
          "data": {
            "text/plain": [
              "(49,\n",
              " ['cold_hands_and_feets',\n",
              "  'skin_rash',\n",
              "  'pus_filled_pimples',\n",
              "  'dizziness',\n",
              "  'chest_pain',\n",
              "  'excessive_hunger',\n",
              "  'malaise',\n",
              "  'headache',\n",
              "  'blackheads',\n",
              "  'lethargy',\n",
              "  'high_fever',\n",
              "  'weight_loss',\n",
              "  'scurring',\n",
              "  'muscle_weakness',\n",
              "  'enlarged_thyroid',\n",
              "  'obesity',\n",
              "  'increased_appetite',\n",
              "  'puffy_face_and_eyes',\n",
              "  'fatigue',\n",
              "  'sinus_pressure',\n",
              "  'swelled_lymph_nodes',\n",
              "  'runny_nose',\n",
              "  'diarrhoea',\n",
              "  'throat_irritation',\n",
              "  'continuous_sneezing',\n",
              "  'irritability',\n",
              "  'vomiting',\n",
              "  'loss_of_smell',\n",
              "  'muscle_pain',\n",
              "  'swollen_extremeties',\n",
              "  'abnormal_menstruation',\n",
              "  'depression',\n",
              "  'redness_of_eyes',\n",
              "  'rusty_sputum',\n",
              "  'nausea',\n",
              "  'phlegm',\n",
              "  'congestion',\n",
              "  'fast_heart_rate',\n",
              "  'blurred_and_distorted_vision',\n",
              "  'restlessness',\n",
              "  'irregular_sugar_level',\n",
              "  'cough',\n",
              "  'brittle_nails',\n",
              "  'weight_gain',\n",
              "  'polyuria',\n",
              "  'chills',\n",
              "  'sweating',\n",
              "  'mood_swings',\n",
              "  'breathlessness'])"
            ]
          },
          "metadata": {
            "tags": []
          },
          "execution_count": 7
        }
      ]
    },
    {
      "cell_type": "code",
      "metadata": {
        "colab": {
          "base_uri": "https://localhost:8080/"
        },
        "id": "mPsw7XRGdCYx",
        "outputId": "83196b0d-8d58-48b1-de85-f51bf91e9352"
      },
      "source": [
        "X = np.empty((0, len(symptoms)))\n",
        "y = np.empty((0, len(diseases)))\n",
        "\n",
        "for i in range(len(df)):\n",
        "    x = np.zeros((1, len(symptoms)))\n",
        "    y = np.append(y, label_binarize([diseases.index(df.iloc[i,0])], classes=range(len(diseases))), axis=0)\n",
        "    for s in df.iloc[i,:].values[1:]:\n",
        "        if isinstance(s, str):\n",
        "            x[0,symptoms.index(s.strip())] = 1\n",
        "    X = np.append(X, x, axis = 0)\n",
        "    #print(X, y)\n",
        "\n",
        "print(X.shape, y.shape)"
      ],
      "execution_count": 8,
      "outputs": [
        {
          "output_type": "stream",
          "text": [
            "(62, 49) (62, 8)\n"
          ],
          "name": "stdout"
        }
      ]
    },
    {
      "cell_type": "code",
      "metadata": {
        "id": "N2IlLn7jnaPE"
      },
      "source": [
        "Xtrain, Xtest, ytrain, ytest = train_test_split(X, y, test_size = 0.2, random_state = 13)"
      ],
      "execution_count": 9,
      "outputs": []
    },
    {
      "cell_type": "code",
      "metadata": {
        "id": "ps9mD_C7sBif"
      },
      "source": [
        "model = models.Sequential([\n",
        "    layers.Dense(16, activation='relu', input_shape=Xtrain[0].shape),\n",
        "    layers.Dense(8, activation='relu'),\n",
        "    layers.Dense(len(diseases), activation='softmax')\n",
        "])\n",
        "\n",
        "cb = [callbacks.EarlyStopping(patience=5, restore_best_weights=True)]"
      ],
      "execution_count": 10,
      "outputs": []
    },
    {
      "cell_type": "code",
      "metadata": {
        "colab": {
          "base_uri": "https://localhost:8080/"
        },
        "id": "cciXvmLdt3jN",
        "outputId": "b161ed1c-a719-4c98-994d-735499ab05ea"
      },
      "source": [
        "model.compile(loss=losses.CategoricalCrossentropy(),\n",
        "              optimizer=optimizers.Adam(0.01),\n",
        "              metrics=['accuracy'])\n",
        "\n",
        "model.fit(Xtrain, ytrain, validation_data=(Xtest, ytest), epochs=256, callbacks=cb)"
      ],
      "execution_count": 11,
      "outputs": [
        {
          "output_type": "stream",
          "text": [
            "Epoch 1/256\n",
            "2/2 [==============================] - 1s 467ms/step - loss: 2.2117 - accuracy: 0.1713 - val_loss: 1.7535 - val_accuracy: 0.4615\n",
            "Epoch 2/256\n",
            "2/2 [==============================] - 0s 39ms/step - loss: 1.9348 - accuracy: 0.2570 - val_loss: 1.4886 - val_accuracy: 0.6154\n",
            "Epoch 3/256\n",
            "2/2 [==============================] - 0s 40ms/step - loss: 1.7072 - accuracy: 0.3459 - val_loss: 1.2630 - val_accuracy: 0.6923\n",
            "Epoch 4/256\n",
            "2/2 [==============================] - 0s 42ms/step - loss: 1.5445 - accuracy: 0.3699 - val_loss: 1.0594 - val_accuracy: 0.6923\n",
            "Epoch 5/256\n",
            "2/2 [==============================] - 0s 46ms/step - loss: 1.4094 - accuracy: 0.3803 - val_loss: 0.8828 - val_accuracy: 0.6923\n",
            "Epoch 6/256\n",
            "2/2 [==============================] - 0s 42ms/step - loss: 1.2852 - accuracy: 0.3595 - val_loss: 0.7338 - val_accuracy: 0.7692\n",
            "Epoch 7/256\n",
            "2/2 [==============================] - 0s 42ms/step - loss: 1.2004 - accuracy: 0.3971 - val_loss: 0.6186 - val_accuracy: 0.8462\n",
            "Epoch 8/256\n",
            "2/2 [==============================] - 0s 43ms/step - loss: 1.0713 - accuracy: 0.4796 - val_loss: 0.5222 - val_accuracy: 0.8462\n",
            "Epoch 9/256\n",
            "2/2 [==============================] - 0s 42ms/step - loss: 0.9450 - accuracy: 0.5412 - val_loss: 0.4471 - val_accuracy: 0.8462\n",
            "Epoch 10/256\n",
            "2/2 [==============================] - 0s 45ms/step - loss: 0.9362 - accuracy: 0.5340 - val_loss: 0.3929 - val_accuracy: 0.8462\n",
            "Epoch 11/256\n",
            "2/2 [==============================] - 0s 43ms/step - loss: 0.8852 - accuracy: 0.5989 - val_loss: 0.3534 - val_accuracy: 1.0000\n",
            "Epoch 12/256\n",
            "2/2 [==============================] - 0s 42ms/step - loss: 0.7828 - accuracy: 0.7910 - val_loss: 0.3208 - val_accuracy: 1.0000\n",
            "Epoch 13/256\n",
            "2/2 [==============================] - 0s 41ms/step - loss: 0.7122 - accuracy: 0.8151 - val_loss: 0.2898 - val_accuracy: 1.0000\n",
            "Epoch 14/256\n",
            "2/2 [==============================] - 0s 43ms/step - loss: 0.6555 - accuracy: 0.8151 - val_loss: 0.2578 - val_accuracy: 1.0000\n",
            "Epoch 15/256\n",
            "2/2 [==============================] - 0s 44ms/step - loss: 0.5808 - accuracy: 0.8663 - val_loss: 0.2271 - val_accuracy: 1.0000\n",
            "Epoch 16/256\n",
            "2/2 [==============================] - 0s 43ms/step - loss: 0.5338 - accuracy: 0.8767 - val_loss: 0.1888 - val_accuracy: 1.0000\n",
            "Epoch 17/256\n",
            "2/2 [==============================] - 0s 46ms/step - loss: 0.5178 - accuracy: 0.8799 - val_loss: 0.1487 - val_accuracy: 1.0000\n",
            "Epoch 18/256\n",
            "2/2 [==============================] - 0s 44ms/step - loss: 0.3949 - accuracy: 0.9007 - val_loss: 0.1110 - val_accuracy: 1.0000\n",
            "Epoch 19/256\n",
            "2/2 [==============================] - 0s 40ms/step - loss: 0.3623 - accuracy: 0.8903 - val_loss: 0.0805 - val_accuracy: 1.0000\n",
            "Epoch 20/256\n",
            "2/2 [==============================] - 0s 54ms/step - loss: 0.3096 - accuracy: 0.9111 - val_loss: 0.0576 - val_accuracy: 1.0000\n",
            "Epoch 21/256\n",
            "2/2 [==============================] - 0s 42ms/step - loss: 0.2580 - accuracy: 0.9111 - val_loss: 0.0418 - val_accuracy: 1.0000\n",
            "Epoch 22/256\n",
            "2/2 [==============================] - 0s 41ms/step - loss: 0.2620 - accuracy: 0.8799 - val_loss: 0.0314 - val_accuracy: 1.0000\n",
            "Epoch 23/256\n",
            "2/2 [==============================] - 0s 40ms/step - loss: 0.2073 - accuracy: 0.8903 - val_loss: 0.0251 - val_accuracy: 1.0000\n",
            "Epoch 24/256\n",
            "2/2 [==============================] - 0s 40ms/step - loss: 0.1797 - accuracy: 0.9007 - val_loss: 0.0221 - val_accuracy: 1.0000\n",
            "Epoch 25/256\n",
            "2/2 [==============================] - 0s 39ms/step - loss: 0.1599 - accuracy: 0.9520 - val_loss: 0.0218 - val_accuracy: 1.0000\n",
            "Epoch 26/256\n",
            "2/2 [==============================] - 0s 38ms/step - loss: 0.1423 - accuracy: 1.0000 - val_loss: 0.0235 - val_accuracy: 1.0000\n",
            "Epoch 27/256\n",
            "2/2 [==============================] - 0s 41ms/step - loss: 0.1255 - accuracy: 1.0000 - val_loss: 0.0261 - val_accuracy: 1.0000\n",
            "Epoch 28/256\n",
            "2/2 [==============================] - 0s 44ms/step - loss: 0.1042 - accuracy: 1.0000 - val_loss: 0.0280 - val_accuracy: 1.0000\n",
            "Epoch 29/256\n",
            "2/2 [==============================] - 0s 41ms/step - loss: 0.0976 - accuracy: 1.0000 - val_loss: 0.0282 - val_accuracy: 1.0000\n",
            "Epoch 30/256\n",
            "2/2 [==============================] - 0s 41ms/step - loss: 0.0873 - accuracy: 1.0000 - val_loss: 0.0260 - val_accuracy: 1.0000\n"
          ],
          "name": "stdout"
        },
        {
          "output_type": "execute_result",
          "data": {
            "text/plain": [
              "<tensorflow.python.keras.callbacks.History at 0x7fe29eccb290>"
            ]
          },
          "metadata": {
            "tags": []
          },
          "execution_count": 11
        }
      ]
    },
    {
      "cell_type": "code",
      "metadata": {
        "colab": {
          "base_uri": "https://localhost:8080/"
        },
        "id": "h9o7umILufmU",
        "outputId": "7c5494c2-ae86-4412-add7-9759e2d76772"
      },
      "source": [
        "model.evaluate(X, y)"
      ],
      "execution_count": 12,
      "outputs": [
        {
          "output_type": "stream",
          "text": [
            "2/2 [==============================] - 0s 3ms/step - loss: 0.1139 - accuracy: 1.0000\n"
          ],
          "name": "stdout"
        },
        {
          "output_type": "execute_result",
          "data": {
            "text/plain": [
              "[0.11392734944820404, 1.0]"
            ]
          },
          "metadata": {
            "tags": []
          },
          "execution_count": 12
        }
      ]
    },
    {
      "cell_type": "code",
      "metadata": {
        "id": "VqQ0BkEI2CzK"
      },
      "source": [
        "model.save('disease.h5')"
      ],
      "execution_count": 13,
      "outputs": []
    },
    {
      "cell_type": "code",
      "metadata": {
        "id": "5W-OQAJJL-AT"
      },
      "source": [
        ""
      ],
      "execution_count": null,
      "outputs": []
    }
  ]
}